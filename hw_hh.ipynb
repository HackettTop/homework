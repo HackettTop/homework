{
 "cells": [
  {
   "cell_type": "markdown",
   "id": "df3fda15",
   "metadata": {
    "toc": true
   },
   "source": [
    "<h1>Table of Contents<span class=\"tocSkip\"></span></h1>\n",
    "<div class=\"toc\"><ul class=\"toc-item\"></ul></div>"
   ]
  },
  {
   "cell_type": "code",
   "execution_count": 80,
   "id": "ef70af6c",
   "metadata": {},
   "outputs": [],
   "source": [
    "import requests\n",
    "import json\n",
    "from tqdm.auto import tqdm\n",
    "from collections import defaultdict, Counter\n",
    "import pickle \n",
    "import pandas as pd\n",
    "import time\n",
    "from bs4 import BeautifulSoup\n",
    "import numpy as np\n",
    "import matplotlib.pyplot as plt"
   ]
  },
  {
   "cell_type": "code",
   "execution_count": 2,
   "id": "2a5238de",
   "metadata": {},
   "outputs": [],
   "source": [
    "sber = '3529'\n",
    "page = 1\n",
    "num_per_page = 100\n",
    "moscow = 113\n",
    "url = f'https://api.hh.ru/vacancies?employer_id={sber}&page={page}&per_page={num_per_page}&area={moscow}'"
   ]
  },
  {
   "cell_type": "code",
   "execution_count": 3,
   "id": "5267b060",
   "metadata": {},
   "outputs": [],
   "source": [
    "req = requests.get('https://api.hh.ru/areas').json()\n",
    "area_id = [element['id'] for element in req[0]['areas']]"
   ]
  },
  {
   "cell_type": "code",
   "execution_count": 4,
   "id": "75fbed11",
   "metadata": {},
   "outputs": [
    {
     "data": {
      "application/vnd.jupyter.widget-view+json": {
       "model_id": "82eb48777dc34c658c2e3726caa7f48a",
       "version_major": 2,
       "version_minor": 0
      },
      "text/plain": [
       "  0%|          | 0/20 [00:00<?, ?it/s]"
      ]
     },
     "metadata": {},
     "output_type": "display_data"
    }
   ],
   "source": [
    "id_vacancies = []\n",
    "for i in tqdm(range(0, 20)):\n",
    "    for j in area_id:\n",
    "        vacancies = requests.get( f'https://api.hh.ru/vacancies?employer_id={sber}&page={i}&per_page={num_per_page}&area={j}').json()\n",
    "        vacancy_ids = [el.get('id') for el in vacancies.get('items')]\n",
    "        id_vacancies.extend(vacancy_ids)"
   ]
  },
  {
   "cell_type": "code",
   "execution_count": 5,
   "id": "0610a4c8",
   "metadata": {},
   "outputs": [
    {
     "data": {
      "text/plain": [
       "6466"
      ]
     },
     "execution_count": 5,
     "metadata": {},
     "output_type": "execute_result"
    }
   ],
   "source": [
    "len(id_vacancies)"
   ]
  },
  {
   "cell_type": "code",
   "execution_count": 6,
   "id": "c159b443",
   "metadata": {},
   "outputs": [],
   "source": [
    "id_1 = id_vacancies[1::4]\n",
    "id_2 = id_vacancies[2::4]\n",
    "id_3 = id_vacancies[3::4]\n",
    "id_4 = id_vacancies[4::4]"
   ]
  },
  {
   "cell_type": "code",
   "execution_count": 8,
   "id": "67e65805",
   "metadata": {},
   "outputs": [
    {
     "data": {
      "application/vnd.jupyter.widget-view+json": {
       "model_id": "2204f4eb489b481ab65c431b1c34a827",
       "version_major": 2,
       "version_minor": 0
      },
      "text/plain": [
       "  0%|          | 0/1617 [00:00<?, ?it/s]"
      ]
     },
     "metadata": {},
     "output_type": "display_data"
    }
   ],
   "source": [
    "HEADERS = {'authority': 'pagead2.googlesyndication.com'\n",
    ",'method': 'GET',\n",
    "'path': '/pagead/gen_204?id=sodar2&v=224&t=2&li=gpt_2021072901&jk=2974559243404883&bg=!pqWlpeHNAAals0SOpbM7ACkAdvg8WiQ0fli2tdMy7F7yByuW_tVdglb_IiowfSr7FqiidEpDnw5LWwIAAAK9UgAAAIhoAQcKAE_Emv0SeIGiLk4mp-iPSdtLCpUV_VyWYLv1c_3DFxjViYs9sFEcG-ESgAw1DwgndsaVI_GS-VAnLbZv7zhNVtLQYHfiapQag62qeS4Tu9ngmQL4yyfdA-RIKOmbYCVyNojT1MO8VS630oi7OctwmLXKhH7o_hqGdUhCVop4Tm-kOKk0cR210reZqrZJI1f1tpLkQTAcmoHbjP_1rykPIM-E_mMRlTMYT0K911wZ91qwcgT3KP_S4zgtC4GXcsE0O5ppxeOelgq8D2zON1Zbv7QQUrH53YszN7goEdJ-BFg5Ywgjjz1OCJYBB5a_yJ8A7_vE52Z2cAU1VFkEWBQ8iuaM0t2EOUFJtfdgG9EUsunIdw7RYuQeuQE7fatLhJTVV2Vu6n_WIdxik2TU6m1dL5UBuyUZLLFV-GOVyUFrhzzH3oO4F6NhvPzgK61vxQNOph9pEuvh2uEJZvGynzR_3PNIwsQnSOpo_hsNZeKgtaE9nH0l38WeE3XTAHqqyqQAJ0oUL6uBrSPwokW7nd14F9aAkAmY4TS5b3JZ7ETZnXqlAufJn99dbuccHuL7fg0RLsq83sCwUqJCGaJhVNqZbTqr_B-Xc8q82_bnHMXQMac8HlxJOgdLLyd_Wi1Qrl4eLnUX5jQ8NMOEXKEJjpMFUT8Ps4GzjkBHxSsE6ilDbX1FZQSeSiwPRcIJsq0dbGj620BwJGcDc1EVavhi319o5lofuGAJij4HtjjDnKWqV8bZPNe4ArsDhI8jOqG3raDDdQMcrxOx2ErLuhNtYIEq9NApuYmxHT_l56BZSjtdbt1EsTYh9LNFKWGcTcsUVoCCBkott33-21WeOWydvSQ9hcIrNMgXPtKMtVsxjKWnDiHq6sJjR1f942OC8wlQnge1TNhd35RhQvdXUoVPKUHwaNR1ksOH9IpVcmRXiVaurAy6dIgGnztzLNV6VnWFonYW9c4T2-8Sn42LbPp-Uj7dS0mDg65weLntP6hoJFNbaYTKRjwcAZYH388AzIu-hCC60qL0Qf3yNQhPFhp0s0PCexllNFGV0GOz0_6UUReunkKtCMLHrNhx06U1TSlJ_hxpAGgz3n2dU07n2nSE0rmYCC59zlml8gZWeZk-Rw',\n",
    "'scheme': 'https',\n",
    "'accept': 'image/avif,image/webp,image/apng,image/svg+xml,image/*,*/*;q=0.8',\n",
    "'accept-encoding': 'gzip, deflate, br',\n",
    "'accept-language': 'ru,en;q=0.9',\n",
    "'referer': 'https://spb.hh.ru/',\n",
    "'sec-ch-ua':  'Not;A Brand\";v=\"99\", \"Yandex\";v=\"91\", \"Chromium\";v=\"91\"',\n",
    "'sec-ch-ua-mobile': '?0',\n",
    "'sec-fetch-dest': 'image',\n",
    "'sec-fetch-mode': 'no-cors',\n",
    "'sec-fetch-site': 'cross-site',\n",
    "'user-agent': 'Mozilla/5.0 (Windows NT 10.0; Win64; x64) AppleWebKit/537.36 (KHTML, like Gecko) Chrome/91.0.4472.135 YaBrowser/21.6.3.757 Yowser/2.5 Safari/537.36}'}\n",
    "\n",
    "\n",
    "full_vacancies = []\n",
    "for i in tqdm(id_1):\n",
    "    full_vacancies.append(requests.get( f'https://api.hh.ru/vacancies/{i}', headers = HEADERS ).json())\n"
   ]
  },
  {
   "cell_type": "code",
   "execution_count": 13,
   "id": "7eaff2b3",
   "metadata": {},
   "outputs": [],
   "source": [
    "with open ('vac_part1.json', 'w') as f:\n",
    "    json.dump(full_vacancies, f)"
   ]
  },
  {
   "cell_type": "code",
   "execution_count": 14,
   "id": "788379fe",
   "metadata": {},
   "outputs": [
    {
     "data": {
      "application/vnd.jupyter.widget-view+json": {
       "model_id": "9934d3a5b8034a5f8d5267e945c5a67f",
       "version_major": 2,
       "version_minor": 0
      },
      "text/plain": [
       "  0%|          | 0/1616 [00:00<?, ?it/s]"
      ]
     },
     "metadata": {},
     "output_type": "display_data"
    }
   ],
   "source": [
    "full_vacancies1 = []\n",
    "for i in tqdm(id_2):\n",
    "    full_vacancies1.append(requests.get( f'https://api.hh.ru/vacancies/{i}', headers = HEADERS ).json())\n"
   ]
  },
  {
   "cell_type": "code",
   "execution_count": 16,
   "id": "9cefd6ae",
   "metadata": {},
   "outputs": [],
   "source": [
    "with open ('vac_part2.json', 'w') as f:\n",
    "    json.dump(full_vacancies1, f)"
   ]
  },
  {
   "cell_type": "code",
   "execution_count": 32,
   "id": "0a88a45c",
   "metadata": {},
   "outputs": [
    {
     "data": {
      "application/vnd.jupyter.widget-view+json": {
       "model_id": "53bec19b39074833b48758f926fac514",
       "version_major": 2,
       "version_minor": 0
      },
      "text/plain": [
       "  0%|          | 0/1616 [00:00<?, ?it/s]"
      ]
     },
     "metadata": {},
     "output_type": "display_data"
    }
   ],
   "source": [
    "full_vacancies2 = []\n",
    "for i in tqdm(id_3):\n",
    "    full_vacancies2.append(requests.get( f'https://api.hh.ru/vacancies/{i}', headers = HEADERS ).json())"
   ]
  },
  {
   "cell_type": "code",
   "execution_count": 34,
   "id": "78459a5c",
   "metadata": {},
   "outputs": [],
   "source": [
    "with open ('vac_part3.json', 'w') as f:\n",
    "    json.dump(full_vacancies2, f)"
   ]
  },
  {
   "cell_type": "code",
   "execution_count": 35,
   "id": "a5ff737b",
   "metadata": {
    "scrolled": true
   },
   "outputs": [
    {
     "data": {
      "application/vnd.jupyter.widget-view+json": {
       "model_id": "8515c0b65d644a55952bb696f43fe735",
       "version_major": 2,
       "version_minor": 0
      },
      "text/plain": [
       "  0%|          | 0/1616 [00:00<?, ?it/s]"
      ]
     },
     "metadata": {},
     "output_type": "display_data"
    }
   ],
   "source": [
    "full_vacancies3 = []\n",
    "for i in tqdm(id_4):\n",
    "    full_vacancies3.append(requests.get( f'https://api.hh.ru/vacancies/{i}', headers = HEADERS ).json())\n"
   ]
  },
  {
   "cell_type": "code",
   "execution_count": 36,
   "id": "a2e40f0f",
   "metadata": {},
   "outputs": [],
   "source": [
    "with open ('vac_part4.json', 'w') as f:\n",
    "    json.dump(full_vacancies3, f)"
   ]
  },
  {
   "cell_type": "code",
   "execution_count": 37,
   "id": "b1389ced",
   "metadata": {},
   "outputs": [],
   "source": [
    "with open('vac_part1.json', \"r\") as read_file:\n",
    "    vac_1 = json.load(read_file)\n",
    "    \n",
    "with open('vac_part2.json', \"r\") as read_file:\n",
    "    vac_2 = json.load(read_file)\n",
    "\n",
    "with open('vac_part3.json', \"r\") as read_file:\n",
    "    vac_3 = json.load(read_file)\n",
    "    \n",
    "with open('vac_part4.json', \"r\") as read_file:\n",
    "    vac_4 = json.load(read_file)"
   ]
  },
  {
   "cell_type": "code",
   "execution_count": 38,
   "id": "c3727d2e",
   "metadata": {},
   "outputs": [],
   "source": [
    "vac = []\n",
    "vac.extend(vac_1)\n",
    "vac.extend(vac_2)\n",
    "vac.extend(vac_3)\n",
    "vac.extend(vac_4)"
   ]
  },
  {
   "cell_type": "code",
   "execution_count": 39,
   "id": "0f5f31db",
   "metadata": {},
   "outputs": [
    {
     "data": {
      "application/vnd.jupyter.widget-view+json": {
       "model_id": "efb082fe1cc749489a630185226a6281",
       "version_major": 2,
       "version_minor": 0
      },
      "text/plain": [
       "  0%|          | 0/6465 [00:00<?, ?it/s]"
      ]
     },
     "metadata": {},
     "output_type": "display_data"
    }
   ],
   "source": [
    "for i in tqdm(range(len(vac))):\n",
    "    if vac[i]['key_skills'] == []:\n",
    "        vac[i]['key_skills'] = 'Отсутствует'\n",
    "    else:\n",
    "        skills = []\n",
    "        for j in vac[i]['key_skills']:  \n",
    "            skills.append(j['name'])\n",
    "        vac[i]['key_skills'] = skills"
   ]
  },
  {
   "cell_type": "code",
   "execution_count": 40,
   "id": "0f7d2e62",
   "metadata": {},
   "outputs": [
    {
     "data": {
      "application/vnd.jupyter.widget-view+json": {
       "model_id": "55bd2303a61040e6a9b072514048a0a7",
       "version_major": 2,
       "version_minor": 0
      },
      "text/plain": [
       "  0%|          | 0/6465 [00:00<?, ?it/s]"
      ]
     },
     "metadata": {},
     "output_type": "display_data"
    }
   ],
   "source": [
    "split = ['<p>','</p>' '&quot', '</strong>', '<strong>', '</p>  </p>', '</p>', '</li> <li>', '</li> </ul>',\n",
    "        '<ul> <li>', ' &quot', '<ul><li>','</em> ', '<em>', '</b>', '<b>']\n",
    "for i in tqdm(range(len(vac))):\n",
    "    if vac[i]['description'] is None:\n",
    "        continue\n",
    "    for el in split:\n",
    "        vac[i]['description'] = vac[i]['description'].split(el)\n",
    "        vac[i]['description'] = ''.join(vac[i]['description'])"
   ]
  },
  {
   "cell_type": "code",
   "execution_count": 41,
   "id": "1df24ce7",
   "metadata": {},
   "outputs": [],
   "source": [
    "df = pd.DataFrame(vac)"
   ]
  },
  {
   "cell_type": "code",
   "execution_count": 45,
   "id": "996e1620",
   "metadata": {},
   "outputs": [],
   "source": [
    "df = df[['id' , 'name','salary','department','description', 'key_skills', 'published_at', 'created_at']]"
   ]
  },
  {
   "cell_type": "code",
   "execution_count": 52,
   "id": "af4a2ae6",
   "metadata": {
    "collapsed": true
   },
   "outputs": [
    {
     "data": {
      "text/html": [
       "<div>\n",
       "<style scoped>\n",
       "    .dataframe tbody tr th:only-of-type {\n",
       "        vertical-align: middle;\n",
       "    }\n",
       "\n",
       "    .dataframe tbody tr th {\n",
       "        vertical-align: top;\n",
       "    }\n",
       "\n",
       "    .dataframe thead th {\n",
       "        text-align: right;\n",
       "    }\n",
       "</style>\n",
       "<table border=\"1\" class=\"dataframe\">\n",
       "  <thead>\n",
       "    <tr style=\"text-align: right;\">\n",
       "      <th></th>\n",
       "      <th>id</th>\n",
       "      <th>name</th>\n",
       "      <th>salary</th>\n",
       "      <th>department</th>\n",
       "      <th>description</th>\n",
       "      <th>key_skills</th>\n",
       "      <th>published_at</th>\n",
       "      <th>created_at</th>\n",
       "    </tr>\n",
       "  </thead>\n",
       "  <tbody>\n",
       "    <tr>\n",
       "      <th>0</th>\n",
       "      <td>46258400</td>\n",
       "      <td>Клиентский менеджер (Прямые продажи)</td>\n",
       "      <td>{'from': 42000, 'to': None, 'currency': 'RUR',...</td>\n",
       "      <td>{'id': '3529-3529-stat', 'name': 'Сбер. Начало...</td>\n",
       "      <td>Хочешь работать в банке, но офисная рутина не ...</td>\n",
       "      <td>[Публичные выступления, Обучение и развитие, О...</td>\n",
       "      <td>2021-07-15T10:50:08+0300</td>\n",
       "      <td>2021-07-15T10:50:08+0300</td>\n",
       "    </tr>\n",
       "    <tr>\n",
       "      <th>1</th>\n",
       "      <td>45978887</td>\n",
       "      <td>Клиентский менеджер</td>\n",
       "      <td>{'from': 28000, 'to': None, 'currency': 'RUR',...</td>\n",
       "      <td>{'id': '3529-3529-stat', 'name': 'Сбер. Начало...</td>\n",
       "      <td>Клиентский менеджер ― специалист, который прод...</td>\n",
       "      <td>Отсутствует</td>\n",
       "      <td>2021-07-05T15:01:12+0300</td>\n",
       "      <td>2021-07-05T15:01:12+0300</td>\n",
       "    </tr>\n",
       "    <tr>\n",
       "      <th>2</th>\n",
       "      <td>46295137</td>\n",
       "      <td>Старший клиентский менеджер</td>\n",
       "      <td>{'from': 35000, 'to': None, 'currency': 'RUR',...</td>\n",
       "      <td>{'id': '3529-3529-prof', 'name': 'Сбер для экс...</td>\n",
       "      <td>Если ты: хочешь построить карьеру в банковском...</td>\n",
       "      <td>[Клиентоориентированность, Активные продажи, Р...</td>\n",
       "      <td>2021-08-04T09:20:04+0300</td>\n",
       "      <td>2021-08-04T09:20:04+0300</td>\n",
       "    </tr>\n",
       "    <tr>\n",
       "      <th>3</th>\n",
       "      <td>46287051</td>\n",
       "      <td>Клиентский менеджер (Прямые продажи)</td>\n",
       "      <td>{'from': 42000, 'to': None, 'currency': 'RUR',...</td>\n",
       "      <td>{'id': '3529-3529-stat', 'name': 'Сбер. Начало...</td>\n",
       "      <td>Хочешь работать в банке, но офисная рутина не ...</td>\n",
       "      <td>[Публичные выступления, Английский язык, Обуче...</td>\n",
       "      <td>2021-08-04T09:20:05+0300</td>\n",
       "      <td>2021-08-04T09:20:05+0300</td>\n",
       "    </tr>\n",
       "    <tr>\n",
       "      <th>4</th>\n",
       "      <td>46260029</td>\n",
       "      <td>Клиентский менеджер (Прямые продажи)</td>\n",
       "      <td>{'from': 46000, 'to': None, 'currency': 'RUR',...</td>\n",
       "      <td>{'id': '3529-3529-stat', 'name': 'Сбер. Начало...</td>\n",
       "      <td>У каждого нашего зарплатного клиента – компани...</td>\n",
       "      <td>[Проведение презентаций, Обучение и развитие, ...</td>\n",
       "      <td>2021-07-15T11:23:59+0300</td>\n",
       "      <td>2021-07-15T11:23:59+0300</td>\n",
       "    </tr>\n",
       "    <tr>\n",
       "      <th>...</th>\n",
       "      <td>...</td>\n",
       "      <td>...</td>\n",
       "      <td>...</td>\n",
       "      <td>...</td>\n",
       "      <td>...</td>\n",
       "      <td>...</td>\n",
       "      <td>...</td>\n",
       "      <td>...</td>\n",
       "    </tr>\n",
       "    <tr>\n",
       "      <th>6460</th>\n",
       "      <td>46624524</td>\n",
       "      <td>Главный дизайнер мобильных приложений</td>\n",
       "      <td>None</td>\n",
       "      <td>{'id': '3529-3529-prof', 'name': 'Сбер для экс...</td>\n",
       "      <td>Мы ищем дизайнера в нашу дружную команду Сберб...</td>\n",
       "      <td>Отсутствует</td>\n",
       "      <td>2021-07-29T12:41:44+0300</td>\n",
       "      <td>2021-07-29T12:41:44+0300</td>\n",
       "    </tr>\n",
       "    <tr>\n",
       "      <th>6461</th>\n",
       "      <td>46223239</td>\n",
       "      <td>Java-разработчик</td>\n",
       "      <td>None</td>\n",
       "      <td>{'id': '3529-3529-it', 'name': 'Сбер. IT'}</td>\n",
       "      <td>Обязанности: Разрабатывать серверную часть веб...</td>\n",
       "      <td>[SQL, Git, PostgreSQL, Java, NoSQL]</td>\n",
       "      <td>2021-07-28T11:23:16+0300</td>\n",
       "      <td>2021-07-28T11:23:16+0300</td>\n",
       "    </tr>\n",
       "    <tr>\n",
       "      <th>6462</th>\n",
       "      <td>46259461</td>\n",
       "      <td>Клиентский менеджер прямых продаж</td>\n",
       "      <td>{'from': 95000, 'to': None, 'currency': 'RUR',...</td>\n",
       "      <td>{'id': '3529-3529-stat', 'name': 'Сбер. Начало...</td>\n",
       "      <td>Хочешь работать в банке, но офисная рутина не ...</td>\n",
       "      <td>[Прямые продажи, Активные продажи, Холодные пр...</td>\n",
       "      <td>2021-08-04T09:20:10+0300</td>\n",
       "      <td>2021-08-04T09:20:10+0300</td>\n",
       "    </tr>\n",
       "    <tr>\n",
       "      <th>6463</th>\n",
       "      <td>46026226</td>\n",
       "      <td>Senior Android разработчик (SberDevices/Jazz- ...</td>\n",
       "      <td>None</td>\n",
       "      <td>{'id': '3529-3529-it', 'name': 'Сбер. IT'}</td>\n",
       "      <td>SberDevices – молодая IT-компания, созданная в...</td>\n",
       "      <td>[Git, Java, kotlin, Android SDK, REST, okHttp,...</td>\n",
       "      <td>2021-07-06T18:00:09+0300</td>\n",
       "      <td>2021-07-06T18:00:09+0300</td>\n",
       "    </tr>\n",
       "    <tr>\n",
       "      <th>6464</th>\n",
       "      <td>46560466</td>\n",
       "      <td>Главный инженер по разработке (Devops инженер)</td>\n",
       "      <td>None</td>\n",
       "      <td>{'id': '3529-3529-it', 'name': 'Сбер. IT'}</td>\n",
       "      <td>В команду Кампании продаж ищем DevOps инженера...</td>\n",
       "      <td>Отсутствует</td>\n",
       "      <td>2021-07-30T13:24:31+0300</td>\n",
       "      <td>2021-07-30T13:24:31+0300</td>\n",
       "    </tr>\n",
       "  </tbody>\n",
       "</table>\n",
       "<p>6465 rows × 8 columns</p>\n",
       "</div>"
      ],
      "text/plain": [
       "            id                                               name  \\\n",
       "0     46258400               Клиентский менеджер (Прямые продажи)   \n",
       "1     45978887                                Клиентский менеджер   \n",
       "2     46295137                        Старший клиентский менеджер   \n",
       "3     46287051               Клиентский менеджер (Прямые продажи)   \n",
       "4     46260029               Клиентский менеджер (Прямые продажи)   \n",
       "...        ...                                                ...   \n",
       "6460  46624524              Главный дизайнер мобильных приложений   \n",
       "6461  46223239                                   Java-разработчик   \n",
       "6462  46259461                  Клиентский менеджер прямых продаж   \n",
       "6463  46026226  Senior Android разработчик (SberDevices/Jazz- ...   \n",
       "6464  46560466     Главный инженер по разработке (Devops инженер)   \n",
       "\n",
       "                                                 salary  \\\n",
       "0     {'from': 42000, 'to': None, 'currency': 'RUR',...   \n",
       "1     {'from': 28000, 'to': None, 'currency': 'RUR',...   \n",
       "2     {'from': 35000, 'to': None, 'currency': 'RUR',...   \n",
       "3     {'from': 42000, 'to': None, 'currency': 'RUR',...   \n",
       "4     {'from': 46000, 'to': None, 'currency': 'RUR',...   \n",
       "...                                                 ...   \n",
       "6460                                               None   \n",
       "6461                                               None   \n",
       "6462  {'from': 95000, 'to': None, 'currency': 'RUR',...   \n",
       "6463                                               None   \n",
       "6464                                               None   \n",
       "\n",
       "                                             department  \\\n",
       "0     {'id': '3529-3529-stat', 'name': 'Сбер. Начало...   \n",
       "1     {'id': '3529-3529-stat', 'name': 'Сбер. Начало...   \n",
       "2     {'id': '3529-3529-prof', 'name': 'Сбер для экс...   \n",
       "3     {'id': '3529-3529-stat', 'name': 'Сбер. Начало...   \n",
       "4     {'id': '3529-3529-stat', 'name': 'Сбер. Начало...   \n",
       "...                                                 ...   \n",
       "6460  {'id': '3529-3529-prof', 'name': 'Сбер для экс...   \n",
       "6461         {'id': '3529-3529-it', 'name': 'Сбер. IT'}   \n",
       "6462  {'id': '3529-3529-stat', 'name': 'Сбер. Начало...   \n",
       "6463         {'id': '3529-3529-it', 'name': 'Сбер. IT'}   \n",
       "6464         {'id': '3529-3529-it', 'name': 'Сбер. IT'}   \n",
       "\n",
       "                                            description  \\\n",
       "0     Хочешь работать в банке, но офисная рутина не ...   \n",
       "1     Клиентский менеджер ― специалист, который прод...   \n",
       "2     Если ты: хочешь построить карьеру в банковском...   \n",
       "3     Хочешь работать в банке, но офисная рутина не ...   \n",
       "4     У каждого нашего зарплатного клиента – компани...   \n",
       "...                                                 ...   \n",
       "6460  Мы ищем дизайнера в нашу дружную команду Сберб...   \n",
       "6461  Обязанности: Разрабатывать серверную часть веб...   \n",
       "6462  Хочешь работать в банке, но офисная рутина не ...   \n",
       "6463  SberDevices – молодая IT-компания, созданная в...   \n",
       "6464  В команду Кампании продаж ищем DevOps инженера...   \n",
       "\n",
       "                                             key_skills  \\\n",
       "0     [Публичные выступления, Обучение и развитие, О...   \n",
       "1                                           Отсутствует   \n",
       "2     [Клиентоориентированность, Активные продажи, Р...   \n",
       "3     [Публичные выступления, Английский язык, Обуче...   \n",
       "4     [Проведение презентаций, Обучение и развитие, ...   \n",
       "...                                                 ...   \n",
       "6460                                        Отсутствует   \n",
       "6461                [SQL, Git, PostgreSQL, Java, NoSQL]   \n",
       "6462  [Прямые продажи, Активные продажи, Холодные пр...   \n",
       "6463  [Git, Java, kotlin, Android SDK, REST, okHttp,...   \n",
       "6464                                        Отсутствует   \n",
       "\n",
       "                  published_at                created_at  \n",
       "0     2021-07-15T10:50:08+0300  2021-07-15T10:50:08+0300  \n",
       "1     2021-07-05T15:01:12+0300  2021-07-05T15:01:12+0300  \n",
       "2     2021-08-04T09:20:04+0300  2021-08-04T09:20:04+0300  \n",
       "3     2021-08-04T09:20:05+0300  2021-08-04T09:20:05+0300  \n",
       "4     2021-07-15T11:23:59+0300  2021-07-15T11:23:59+0300  \n",
       "...                        ...                       ...  \n",
       "6460  2021-07-29T12:41:44+0300  2021-07-29T12:41:44+0300  \n",
       "6461  2021-07-28T11:23:16+0300  2021-07-28T11:23:16+0300  \n",
       "6462  2021-08-04T09:20:10+0300  2021-08-04T09:20:10+0300  \n",
       "6463  2021-07-06T18:00:09+0300  2021-07-06T18:00:09+0300  \n",
       "6464  2021-07-30T13:24:31+0300  2021-07-30T13:24:31+0300  \n",
       "\n",
       "[6465 rows x 8 columns]"
      ]
     },
     "execution_count": 52,
     "metadata": {},
     "output_type": "execute_result"
    }
   ],
   "source": [
    "df"
   ]
  },
  {
   "cell_type": "code",
   "execution_count": 53,
   "id": "61ffd446",
   "metadata": {},
   "outputs": [],
   "source": [
    "df[['published_at', 'created_at']] = df[['published_at', 'created_at']].astype('datetime64')\n",
    "df['published_at_dayofweek'] = df['published_at'].dt.dayofweek"
   ]
  },
  {
   "cell_type": "code",
   "execution_count": 54,
   "id": "f786f35b",
   "metadata": {},
   "outputs": [
    {
     "data": {
      "text/plain": [
       "published_at_dayofweek\n",
       "0    1530\n",
       "1    1528\n",
       "2    1638\n",
       "3     767\n",
       "4     664\n",
       "5     132\n",
       "6     206\n",
       "Name: id, dtype: int64"
      ]
     },
     "execution_count": 54,
     "metadata": {},
     "output_type": "execute_result"
    }
   ],
   "source": [
    "df.groupby('published_at_dayofweek')['id'].count()"
   ]
  },
  {
   "cell_type": "code",
   "execution_count": null,
   "id": "942de620",
   "metadata": {},
   "outputs": [],
   "source": [
    "#В первой половине недели выкладывается почти 80% вакансии."
   ]
  },
  {
   "cell_type": "code",
   "execution_count": 57,
   "id": "d48b343d",
   "metadata": {},
   "outputs": [
    {
     "data": {
      "image/png": "[encoded data removed]",
      "text/plain": [
       "<Figure size 1440x720 with 1 Axes>"
      ]
     },
     "metadata": {
      "needs_background": "light"
     },
     "output_type": "display_data"
    }
   ],
   "source": [
    "df['published_at'].hist(figsize = [20,10])\n",
    "plt.title('Гистограмма распределения вакансий по дате публикации')\n",
    "plt.xlabel('Дата публикации')\n",
    "plt.ylabel('Кол-во вакансий')\n",
    "plt.show()"
   ]
  },
  {
   "cell_type": "code",
   "execution_count": null,
   "id": "9f88b082",
   "metadata": {},
   "outputs": [],
   "source": [
    "#в начале августа появилось около 30% от всех выгруженных вакансии."
   ]
  },
  {
   "cell_type": "code",
   "execution_count": 62,
   "id": "5b5a2e06",
   "metadata": {},
   "outputs": [],
   "source": [
    "df['name'] = df.name.str.lower()"
   ]
  },
  {
   "cell_type": "code",
   "execution_count": 70,
   "id": "c7ca8ac5",
   "metadata": {},
   "outputs": [],
   "source": [
    "vac_for_me = []\n",
    "for el in df['name'].values:\n",
    "    if 'data analyst'  in el:\n",
    "        vac_for_me.append(el)"
   ]
  },
  {
   "cell_type": "code",
   "execution_count": 71,
   "id": "86d44669",
   "metadata": {},
   "outputs": [
    {
     "data": {
      "text/plain": [
       "['lead data analyst',\n",
       " 'data analyst (junior|junior+)',\n",
       " 'аналитик данных (data analyst)',\n",
       " 'data analyst',\n",
       " 'data analyst',\n",
       " 'data analyst (premium solutions)',\n",
       " 'data analyst',\n",
       " 'data analyst (cltv)',\n",
       " 'data analyst (nrt)',\n",
       " 'data analyst (отдел планирования и отчётности)',\n",
       " 'data analyst',\n",
       " 'data analyst',\n",
       " 'data analyst sberdevices',\n",
       " 'data analyst',\n",
       " 'data analyst',\n",
       " 'senior data analyst в команду lifecycle management',\n",
       " 'lead data analyst',\n",
       " 'data analyst',\n",
       " 'lead data analyst (портфельное управление карточным бизнесом)',\n",
       " 'data analyst (sberdevices)',\n",
       " 'data analyst ассистентов салют (sberdevices)',\n",
       " 'data analyst',\n",
       " 'data analyst',\n",
       " 'data analyst (казначейство)',\n",
       " 'data analyst',\n",
       " 'data analyst (трансформация инвестиц бизнеса)']"
      ]
     },
     "execution_count": 71,
     "metadata": {},
     "output_type": "execute_result"
    }
   ],
   "source": [
    "vac_for_me"
   ]
  },
  {
   "cell_type": "code",
   "execution_count": 75,
   "id": "021e065a",
   "metadata": {},
   "outputs": [
    {
     "data": {
      "text/html": [
       "<div>\n",
       "<style scoped>\n",
       "    .dataframe tbody tr th:only-of-type {\n",
       "        vertical-align: middle;\n",
       "    }\n",
       "\n",
       "    .dataframe tbody tr th {\n",
       "        vertical-align: top;\n",
       "    }\n",
       "\n",
       "    .dataframe thead th {\n",
       "        text-align: right;\n",
       "    }\n",
       "</style>\n",
       "<table border=\"1\" class=\"dataframe\">\n",
       "  <thead>\n",
       "    <tr style=\"text-align: right;\">\n",
       "      <th></th>\n",
       "      <th>id</th>\n",
       "      <th>name</th>\n",
       "      <th>salary</th>\n",
       "      <th>department</th>\n",
       "      <th>description</th>\n",
       "      <th>key_skills</th>\n",
       "      <th>published_at</th>\n",
       "      <th>created_at</th>\n",
       "      <th>published_at_dayofweek</th>\n",
       "    </tr>\n",
       "  </thead>\n",
       "  <tbody>\n",
       "    <tr>\n",
       "      <th>508</th>\n",
       "      <td>44593615</td>\n",
       "      <td>аналитик данных (data analyst)</td>\n",
       "      <td>None</td>\n",
       "      <td>{'id': '3529-3529-prof', 'name': 'Сбер для экс...</td>\n",
       "      <td>Обязанности: -Ad hoc аналитика по запросам; -П...</td>\n",
       "      <td>[SQL, MS SQL, Анализ данных, Работа с базами д...</td>\n",
       "      <td>2021-08-03 12:01:47</td>\n",
       "      <td>2021-08-03 12:01:47</td>\n",
       "      <td>1</td>\n",
       "    </tr>\n",
       "    <tr>\n",
       "      <th>1177</th>\n",
       "      <td>46537286</td>\n",
       "      <td>data analyst</td>\n",
       "      <td>None</td>\n",
       "      <td>{'id': '3529-3529-prof', 'name': 'Сбер для экс...</td>\n",
       "      <td>Наша команда Data – аналитиков и инженеров зан...</td>\n",
       "      <td>[Hadoop, Atlassian Jira, SQL, Python, Hive]</td>\n",
       "      <td>2021-07-26 15:45:55</td>\n",
       "      <td>2021-07-26 15:45:55</td>\n",
       "      <td>0</td>\n",
       "    </tr>\n",
       "    <tr>\n",
       "      <th>4359</th>\n",
       "      <td>45407522</td>\n",
       "      <td>data analyst sberdevices</td>\n",
       "      <td>None</td>\n",
       "      <td>{'id': '3529-3529-it', 'name': 'Сбер. IT'}</td>\n",
       "      <td>SberDevices - новое направление компании, кото...</td>\n",
       "      <td>[Python, SQL, Анализ данных]</td>\n",
       "      <td>2021-07-28 07:06:37</td>\n",
       "      <td>2021-07-28 07:06:37</td>\n",
       "      <td>2</td>\n",
       "    </tr>\n",
       "    <tr>\n",
       "      <th>4371</th>\n",
       "      <td>44891435</td>\n",
       "      <td>data analyst</td>\n",
       "      <td>None</td>\n",
       "      <td>{'id': '3529-3529-it', 'name': 'Сбер. IT'}</td>\n",
       "      <td>Задачи: Прикладные задачи по сопровождению ско...</td>\n",
       "      <td>[SQL, Oracle Pl/SQL, Математический анализ, Ма...</td>\n",
       "      <td>2021-07-21 11:13:06</td>\n",
       "      <td>2021-07-21 11:13:06</td>\n",
       "      <td>2</td>\n",
       "    </tr>\n",
       "    <tr>\n",
       "      <th>5811</th>\n",
       "      <td>46537424</td>\n",
       "      <td>data analyst</td>\n",
       "      <td>None</td>\n",
       "      <td>{'id': '3529-3529-prof', 'name': 'Сбер для экс...</td>\n",
       "      <td>Блок «Розничный бизнес» Сбера расширяет команд...</td>\n",
       "      <td>[SQL, Английский язык, Teradata, Работа с боль...</td>\n",
       "      <td>2021-07-26 15:55:16</td>\n",
       "      <td>2021-07-26 15:55:16</td>\n",
       "      <td>0</td>\n",
       "    </tr>\n",
       "    <tr>\n",
       "      <th>6226</th>\n",
       "      <td>44635448</td>\n",
       "      <td>data analyst ассистентов салют (sberdevices)</td>\n",
       "      <td>None</td>\n",
       "      <td>{'id': '3529-3529-it', 'name': 'Сбер. IT'}</td>\n",
       "      <td>SberDevices – инновационное направление компан...</td>\n",
       "      <td>[Python, SQL]</td>\n",
       "      <td>2021-07-26 09:54:46</td>\n",
       "      <td>2021-07-26 09:54:46</td>\n",
       "      <td>0</td>\n",
       "    </tr>\n",
       "    <tr>\n",
       "      <th>6263</th>\n",
       "      <td>46044958</td>\n",
       "      <td>data analyst</td>\n",
       "      <td>None</td>\n",
       "      <td>{'id': '3529-3529-prof', 'name': 'Сбер для экс...</td>\n",
       "      <td>Наш проект:SberCIB – инвестиционно-банковское ...</td>\n",
       "      <td>[Python, SQL, Qlik Sense, Базы данных]</td>\n",
       "      <td>2021-08-03 12:28:55</td>\n",
       "      <td>2021-08-03 12:28:55</td>\n",
       "      <td>1</td>\n",
       "    </tr>\n",
       "  </tbody>\n",
       "</table>\n",
       "</div>"
      ],
      "text/plain": [
       "            id                                          name salary  \\\n",
       "508   44593615                аналитик данных (data analyst)   None   \n",
       "1177  46537286                                  data analyst   None   \n",
       "4359  45407522                      data analyst sberdevices   None   \n",
       "4371  44891435                                  data analyst   None   \n",
       "5811  46537424                                  data analyst   None   \n",
       "6226  44635448  data analyst ассистентов салют (sberdevices)   None   \n",
       "6263  46044958                                  data analyst   None   \n",
       "\n",
       "                                             department  \\\n",
       "508   {'id': '3529-3529-prof', 'name': 'Сбер для экс...   \n",
       "1177  {'id': '3529-3529-prof', 'name': 'Сбер для экс...   \n",
       "4359         {'id': '3529-3529-it', 'name': 'Сбер. IT'}   \n",
       "4371         {'id': '3529-3529-it', 'name': 'Сбер. IT'}   \n",
       "5811  {'id': '3529-3529-prof', 'name': 'Сбер для экс...   \n",
       "6226         {'id': '3529-3529-it', 'name': 'Сбер. IT'}   \n",
       "6263  {'id': '3529-3529-prof', 'name': 'Сбер для экс...   \n",
       "\n",
       "                                            description  \\\n",
       "508   Обязанности: -Ad hoc аналитика по запросам; -П...   \n",
       "1177  Наша команда Data – аналитиков и инженеров зан...   \n",
       "4359  SberDevices - новое направление компании, кото...   \n",
       "4371  Задачи: Прикладные задачи по сопровождению ско...   \n",
       "5811  Блок «Розничный бизнес» Сбера расширяет команд...   \n",
       "6226  SberDevices – инновационное направление компан...   \n",
       "6263  Наш проект:SberCIB – инвестиционно-банковское ...   \n",
       "\n",
       "                                             key_skills        published_at  \\\n",
       "508   [SQL, MS SQL, Анализ данных, Работа с базами д... 2021-08-03 12:01:47   \n",
       "1177        [Hadoop, Atlassian Jira, SQL, Python, Hive] 2021-07-26 15:45:55   \n",
       "4359                       [Python, SQL, Анализ данных] 2021-07-28 07:06:37   \n",
       "4371  [SQL, Oracle Pl/SQL, Математический анализ, Ма... 2021-07-21 11:13:06   \n",
       "5811  [SQL, Английский язык, Teradata, Работа с боль... 2021-07-26 15:55:16   \n",
       "6226                                      [Python, SQL] 2021-07-26 09:54:46   \n",
       "6263             [Python, SQL, Qlik Sense, Базы данных] 2021-08-03 12:28:55   \n",
       "\n",
       "              created_at  published_at_dayofweek  \n",
       "508  2021-08-03 12:01:47                       1  \n",
       "1177 2021-07-26 15:45:55                       0  \n",
       "4359 2021-07-28 07:06:37                       2  \n",
       "4371 2021-07-21 11:13:06                       2  \n",
       "5811 2021-07-26 15:55:16                       0  \n",
       "6226 2021-07-26 09:54:46                       0  \n",
       "6263 2021-08-03 12:28:55                       1  "
      ]
     },
     "execution_count": 75,
     "metadata": {},
     "output_type": "execute_result"
    }
   ],
   "source": [
    "df_vac = df[df['name'].isin(vac_for_me)]\n",
    "df_vac = df_vac[df_vac['key_skills'] != 'Отсутствует']\n",
    "df_vac"
   ]
  },
  {
   "cell_type": "code",
   "execution_count": 82,
   "id": "55d2a4f9",
   "metadata": {},
   "outputs": [],
   "source": [
    "vac_skills = df_vac['key_skills'].to_list()"
   ]
  },
  {
   "cell_type": "code",
   "execution_count": 85,
   "id": "32965547",
   "metadata": {},
   "outputs": [],
   "source": [
    "skill_list = []\n",
    "for i in vac_skills:\n",
    "    skill_list.extend(i)\n",
    "    "
   ]
  },
  {
   "cell_type": "code",
   "execution_count": 91,
   "id": "3799badd",
   "metadata": {},
   "outputs": [
    {
     "data": {
      "text/plain": [
       "Counter({'SQL': 7,\n",
       "         'MS SQL': 1,\n",
       "         'Анализ данных': 2,\n",
       "         'Работа с базами данных': 1,\n",
       "         'Python': 5,\n",
       "         'Git': 1,\n",
       "         'Bitbucket': 1,\n",
       "         'Github': 1,\n",
       "         'Hadoop': 2,\n",
       "         'Atlassian Jira': 1,\n",
       "         'Hive': 1,\n",
       "         'Oracle Pl/SQL': 1,\n",
       "         'Математический анализ': 1,\n",
       "         'Математическая статистика': 1,\n",
       "         'Базы данных': 2,\n",
       "         'База данных: Oracle': 1,\n",
       "         'Постановка задач разработчикам': 1,\n",
       "         'Бизнес-анализ': 1,\n",
       "         'Английский язык': 1,\n",
       "         'Teradata': 1,\n",
       "         'Работа с большим объемом информации': 1,\n",
       "         'Qlik Sense': 1})"
      ]
     },
     "execution_count": 91,
     "metadata": {},
     "output_type": "execute_result"
    }
   ],
   "source": [
    "Counter(skill_list)"
   ]
  },
  {
   "cell_type": "code",
   "execution_count": null,
   "id": "338a46d6",
   "metadata": {},
   "outputs": [],
   "source": [
    "#2Два основных скилла для Data-аналитика - это SQL и Python."
   ]
  },
  {
   "cell_type": "code",
   "execution_count": 93,
   "id": "c12e57e1",
   "metadata": {},
   "outputs": [
    {
     "data": {
      "image/png": "[encoded data removed]",
      "text/plain": [
       "<Figure size 1080x720 with 1 Axes>"
      ]
     },
     "metadata": {
      "needs_background": "light"
     },
     "output_type": "display_data"
    }
   ],
   "source": [
    "df.groupby('name')['id'].count().sort_values(ascending = False).head(10).plot(kind = 'bar', figsize = [15,10])\n",
    "plt.title('Столбчатая диаграмма топ 10 самых популярных вакансий ПАО Сбербанка опубликованных на 04 августа 2021')\n",
    "plt.xlabel('Наименование вакансии')\n",
    "plt.ylabel('Кол-во вакансий')\n",
    "plt.show()"
   ]
  },
  {
   "cell_type": "code",
   "execution_count": null,
   "id": "68a53a9c",
   "metadata": {},
   "outputs": [],
   "source": [
    "# Фронтлиния постоянно требует подпитки новыми любьми... Предположения есть, но бумага их не стерпит"
   ]
  },
  {
   "cell_type": "code",
   "execution_count": null,
   "id": "065aebb1",
   "metadata": {},
   "outputs": [],
   "source": []
  }
 ],
 "metadata": {
  "kernelspec": {
   "display_name": "Python 3",
   "language": "python",
   "name": "python3"
  },
  "language_info": {
   "codemirror_mode": {
    "name": "ipython",
    "version": 3
   },
   "file_extension": ".py",
   "mimetype": "text/x-python",
   "name": "python",
   "nbconvert_exporter": "python",
   "pygments_lexer": "ipython3",
   "version": "3.8.8"
  },
  "toc": {
   "base_numbering": 1,
   "nav_menu": {},
   "number_sections": true,
   "sideBar": true,
   "skip_h1_title": false,
   "title_cell": "Table of Contents",
   "title_sidebar": "Contents",
   "toc_cell": true,
   "toc_position": {},
   "toc_section_display": true,
   "toc_window_display": false
  }
 },
 "nbformat": 4,
 "nbformat_minor": 5
}
